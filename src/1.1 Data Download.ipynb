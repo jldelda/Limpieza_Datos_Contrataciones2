{
 "cells": [
  {
   "cell_type": "code",
   "execution_count": null,
   "metadata": {},
   "outputs": [],
   "source": [
    "import requests\n",
    "import zipfile\n",
    "import io\n",
    "import tqdm\n",
    "\n",
    "from zipfile import ZipFile\n",
    "from tqdm import tqdm"
   ]
  },
  {
   "cell_type": "code",
   "execution_count": null,
   "metadata": {},
   "outputs": [],
   "source": [
    "# URL of the zip file\n",
    "url = \"https://compranetinfo.hacienda.gob.mx/dabiertos/contrataciones_arr.json.zip\"\n",
    "\n",
    "print(\"Starting the download...\")\n",
    "\n",
    "# Send a GET request to the URL\n",
    "response = requests.get(url, stream=True)\n",
    "\n",
    "# Check if the request was successful\n",
    "if response.status_code == 200:\n",
    "    total_size_in_bytes= int(response.headers.get('content-length', 0))\n",
    "    block_size = 1024 # 1 Kibibyte\n",
    "    progress_bar = tqdm.tqdm(total=total_size_in_bytes, unit='iB', unit_scale=True)\n",
    "    content = io.BytesIO()\n",
    "    for data in response.iter_content(block_size):\n",
    "        progress_bar.update(len(data))\n",
    "        content.write(data)\n",
    "    progress_bar.close()\n",
    "    \n",
    "    if total_size_in_bytes != 0 and progress_bar.n != total_size_in_bytes:\n",
    "        print(\"ERROR, something went wrong\")\n",
    "    else:\n",
    "        print(\"Download completed successfully.\")\n",
    "\n",
    "    print(\"Extracting the ZIP file...\")\n",
    "    # Open the zip file located at the URL\n",
    "    zip_file = zipfile.ZipFile(content)\n",
    "    \n",
    "    # Extract the zip file to the current directory\n",
    "    zip_file.extractall(\".\")\n",
    "    print(\"Extraction completed successfully.\")\n",
    "    \n",
    "    # Get the list of extracted file names\n",
    "    extracted_files = zip_file.namelist()\n",
    "    print(f\"Extracted files: {extracted_files}\")\n",
    "else:\n",
    "    print(f\"Failed to download the file. Status code: {response.status_code}\")\n"
   ]
  },
  {
   "cell_type": "markdown",
   "metadata": {},
   "source": [
    "Segundo intento"
   ]
  },
  {
   "cell_type": "code",
   "execution_count": null,
   "metadata": {},
   "outputs": [],
   "source": [
    "import requests\n",
    "from requests.adapters import HTTPAdapter\n",
    "from urllib3.util.retry import Retry\n",
    "import tqdm\n",
    "import io\n",
    "import zipfile\n",
    "\n",
    "# URL of the zip file\n",
    "url = \"https://compranetinfo.hacienda.gob.mx/dabiertos/contrataciones_arr.json.zip\"\n",
    "\n",
    "print(\"Starting the download...\")\n",
    "\n",
    "# Create a session object to manage retries\n",
    "session = requests.Session()\n",
    "retries = Retry(total=5, backoff_factor=1, status_forcelist=[500, 502, 503, 504])\n",
    "session.mount('http://', HTTPAdapter(max_retries=retries))\n",
    "session.mount('https://', HTTPAdapter(max_retries=retries))\n",
    "\n",
    "# Send a GET request to the URL with retries and streaming enabled\n",
    "response = session.get(url, stream=True)\n",
    "\n",
    "# Check if the request was successful\n",
    "if response.status_code == 200:\n",
    "    total_size_in_bytes = int(response.headers.get('content-length', 0))\n",
    "    block_size = 1024  # 1 Kibibyte\n",
    "    progress_bar = tqdm.tqdm(total=total_size_in_bytes, unit='iB', unit_scale=True)\n",
    "    content = io.BytesIO()\n",
    "    try:\n",
    "        for data in response.iter_content(block_size):\n",
    "            progress_bar.update(len(data))\n",
    "            content.write(data)\n",
    "    except requests.exceptions.RequestException as e:\n",
    "        print(f\"Download failed with error: {e}\")\n",
    "    finally:\n",
    "        progress_bar.close()\n",
    "\n",
    "    if total_size_in_bytes != 0 and progress_bar.n != total_size_in_bytes:\n",
    "        print(\"ERROR, something went wrong during the download\")\n",
    "    else:\n",
    "        print(\"Download completed successfully.\")\n",
    "\n",
    "        print(\"Extracting the ZIP file...\")\n",
    "        # Open the zip file located at the URL\n",
    "        zip_file = zipfile.ZipFile(content)\n",
    "        \n",
    "        # Extract the zip file to the current directory\n",
    "        zip_file.extractall(\".\")\n",
    "        print(\"Extraction completed successfully.\")\n",
    "        \n",
    "        # Get the list of extracted file names\n",
    "        extracted_files = zip_file.namelist()\n",
    "        print(f\"Extracted files: {extracted_files}\")\n",
    "else:\n",
    "    print(f\"Failed to download the file. Status code: {response.status_code}\")\n"
   ]
  },
  {
   "cell_type": "code",
   "execution_count": null,
   "metadata": {},
   "outputs": [],
   "source": [
    "import ijson\n",
    "\n",
    "filename = 'contratacionesabiertas_bulk.json'\n",
    "\n",
    "# Processing the JSON file incrementally\n",
    "with open(filename, 'r') as file:\n",
    "    parser = ijson.parse(file)\n",
    "    for prefix, event, value in parser:\n",
    "        print('prefix={}, event={}, value={}'.format(prefix, event, value))\n",
    "        # Process your JSON data incrementally here\n",
    "        print(\"test\")\n"
   ]
  },
  {
   "cell_type": "markdown",
   "metadata": {},
   "source": [
    "## Unzip file"
   ]
  },
  {
   "cell_type": "code",
   "execution_count": null,
   "metadata": {},
   "outputs": [],
   "source": [
    "print(\"Extracting the ZIP file... \\n...this may take a while... about 3 to 5 mins...\")\n",
    "\n",
    "# Open the zip file located at the path\n",
    "zip_file_path = \"contrataciones_arr.json-001.zip\"\n",
    "with ZipFile(zip_file_path, 'r') as zip_file:\n",
    "    # Get a list of all archived file names from the zip\n",
    "    all_files = zip_file.namelist()\n",
    "    \n",
    "    # Set up the progress bar\n",
    "    with tqdm(total=len(all_files), desc=\"Extracting files\", unit=\"files\") as pbar:\n",
    "        for file in all_files:\n",
    "            # Extract each file to the current directory\n",
    "            zip_file.extract(member=file, path=\".\")\n",
    "            # Update the progress bar by one\n",
    "            pbar.update(1)\n",
    "\n",
    "print(\"Extraction completed successfully.\")\n",
    "\n",
    "# Get the list of extracted file names\n",
    "extracted_files = zip_file.namelist()\n",
    "print(f\"Extracted files: {extracted_files}\")\n"
   ]
  },
  {
   "cell_type": "markdown",
   "metadata": {},
   "source": [
    "### Read the json file"
   ]
  },
  {
   "cell_type": "code",
   "execution_count": null,
   "metadata": {},
   "outputs": [],
   "source": []
  },
  {
   "cell_type": "markdown",
   "metadata": {},
   "source": []
  },
  {
   "cell_type": "code",
   "execution_count": null,
   "metadata": {},
   "outputs": [],
   "source": [
    "import ijson\n",
    "\n",
    "filename = 'contratacionesabiertas_bulk.json'\n",
    "\n",
    "# Processing the JSON file incrementally\n",
    "with open(filename, 'r') as file:\n",
    "    parser = ijson.parse(file)\n",
    "    for prefix, event, value in parser:\n",
    "        print('prefix={}, event={}, value={}'.format(prefix, event, value))\n",
    "        # Process your JSON data incrementally here\n",
    "        print(\"test\")"
   ]
  },
  {
   "cell_type": "code",
   "execution_count": 12,
   "metadata": {},
   "outputs": [
    {
     "name": "stdout",
     "output_type": "stream",
     "text": [
      "\"contratacionesabiertas_bulk.json\"\n"
     ]
    }
   ],
   "source": [
    "import json\n",
    "\n",
    "filename = 'contratacionesabiertas_bulk.json'\n",
    "pretty_data = json.dumps(filename, indent=4)\n",
    "print(pretty_data)\n"
   ]
  },
  {
   "cell_type": "code",
   "execution_count": 13,
   "metadata": {},
   "outputs": [],
   "source": [
    "import json\n",
    "\n",
    "# Path to your large JSON file\n",
    "file_path = 'contratacionesabiertas_bulk.json'\n",
    "\n",
    "# Function to read and yield items from a JSON file one at a time\n",
    "def read_json_file(file_path):\n",
    "    with open(file_path, 'r', encoding='utf-8') as file:\n",
    "        for line in file:\n",
    "            yield json.loads(line)\n",
    "\n",
    "# Create a generator\n",
    "json_gen = read_json_file(file_path)\n",
    "\n",
    "# Number of items to print\n",
    "num_items_to_print = 5\n",
    "\n",
    "# Iterate over the generator and print the first few items\n",
    "for i, item in enumerate(json_gen):\n",
    "    print(json.dumps(item, indent=2))  # Pretty print the JSON item\n",
    "    if i + 1 == num_items_to_print:\n",
    "        break\n"
   ]
  },
  {
   "cell_type": "code",
   "execution_count": null,
   "metadata": {},
   "outputs": [],
   "source": []
  },
  {
   "cell_type": "code",
   "execution_count": null,
   "metadata": {},
   "outputs": [],
   "source": []
  }
 ],
 "metadata": {
  "kernelspec": {
   "display_name": "SESNA_ENV",
   "language": "python",
   "name": "python3"
  },
  "language_info": {
   "codemirror_mode": {
    "name": "ipython",
    "version": 3
   },
   "file_extension": ".py",
   "mimetype": "text/x-python",
   "name": "python",
   "nbconvert_exporter": "python",
   "pygments_lexer": "ipython3",
   "version": "3.9.6"
  }
 },
 "nbformat": 4,
 "nbformat_minor": 2
}
