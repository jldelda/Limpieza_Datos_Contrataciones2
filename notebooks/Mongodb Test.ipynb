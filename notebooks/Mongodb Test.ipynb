{
 "cells": [
  {
   "cell_type": "markdown",
   "metadata": {},
   "source": [
    "# Test MongoDB\n",
    "El objetivo de este Jupyter notebook es testear que la base de datos MongoDB esté correctamente instalada, creada completa con la última actualización de los datos que has corrido.\n",
    "\n",
    "Para ello, ejecutaremos los siguientes tests:\n",
    "1. Conexión a la base de datos MongoDB en local.\n",
    "2. Revisar el tamaño y la última actualización de los datos.\n",
    "3. Crear una muestra pequeña de datos para confirmar que los comandos funcionan.\n",
    "\n",
    "Nota: La base de datos original tiene más de 24GB, por lo que cada request a la base de datos puede demorar mucho tiempo si no se ejecuta en un sistema en paralelo."
   ]
  },
  {
   "cell_type": "code",
   "execution_count": 1,
   "metadata": {},
   "outputs": [],
   "source": [
    "import pymongo\n",
    "from pymongo import MongoClient\n",
    "import pandas as pd\n"
   ]
  },
  {
   "cell_type": "markdown",
   "metadata": {},
   "source": [
    "### 1. Conexión a la base de datos MongoDB en local."
   ]
  },
  {
   "cell_type": "code",
   "execution_count": 3,
   "metadata": {},
   "outputs": [
    {
     "name": "stdout",
     "output_type": "stream",
     "text": [
      "Conexión exitosa a la base de datos y la colección encontrada.\n",
      "Bases de datos disponibles son: ['Contrataciones', 'Test', 'admin', 'config', 'local']\n",
      "Colecciones dentro de la base de datos: ['Contratos_EDCA', 'Sample_Contratos_EDCA']\n"
     ]
    }
   ],
   "source": [
    "# Reemplaza 'localhost' con la dirección de tu servidor MongoDB si es diferente\n",
    "# y '27017' con el puerto correspondiente si has configurado uno distinto.\n",
    "client = MongoClient('mongodb://localhost:27017/')\n",
    "\n",
    "# Reemplaza 'nombre_de_tu_base_de_datos' con el nombre de tu base de datos\n",
    "db = client['Contrataciones']\n",
    "\n",
    "# Intenta obtener una colección para verificar la conexión\n",
    "try:\n",
    "    # Reemplaza 'nombre_de_tu_colección' con el nombre de una colección existente en tu base de datos\n",
    "    colecciones = db.list_collection_names()  # Lista todas las colecciones para verificar la conexión\n",
    "    if 'Contratos_EDCA' in colecciones:\n",
    "        print(\"Conexión exitosa a la base de datos y la colección encontrada.\")\n",
    "    else:\n",
    "        print(\"Conexión exitosa a la base de datos, pero la colección no fue encontrada.\")\n",
    "except Exception as e:\n",
    "    print(f\"Error al conectar a la base de datos: {e}\")\n",
    "\n",
    "\n",
    "# Listar todas las bases de datos\n",
    "databases = client.list_database_names()\n",
    "collections = db.list_collection_names()\n",
    "\n",
    "# Imprimir la lista de bases de datos\n",
    "print(\"Bases de datos disponibles son:\", databases)\n",
    "\n",
    "print(\"Colecciones dentro de la base de datos:\", collections)"
   ]
  },
  {
   "cell_type": "markdown",
   "metadata": {},
   "source": [
    "### 2. Revisar el tamaño y la última actualización de los datos.\n",
    "\n",
    "Para la colección Contratos_EDCA"
   ]
  },
  {
   "cell_type": "code",
   "execution_count": 3,
   "metadata": {},
   "outputs": [
    {
     "name": "stdout",
     "output_type": "stream",
     "text": [
      "Obteniendo el tamaño de la base de datos.\n",
      "Tamaño de la base de datos: 7.33831787109375 GB\n",
      "Obteniendo el número de documentos. Este proceso puede tardar hasta 3 minutos...\n",
      "Número de documentos en la colección 'Contratos_EDCA': 2742266\n"
     ]
    }
   ],
   "source": [
    "# Imprimir el tamaño de la base de datos, número de colecciones y última actualización\n",
    "\n",
    "# Obteniendo el tamaño de la base de datos en GB\n",
    "print(f\"Obteniendo el tamaño de la base de datos.\")\n",
    "db_stats = db.command(\"dbstats\")\n",
    "db_size_gb = db_stats['storageSize'] / (1024**3)  # Convertir bytes a GB\n",
    "print(f\"Tamaño de la base de datos: {db_size_gb} GB\")\n",
    "\n",
    "# Obteniendo el número de documentos en la colección 'Contratos_EDCA'\n",
    "print(f\"Obteniendo el número de documentos. Este proceso puede tardar hasta 3 minutos...\")\n",
    "num_documents = db['Contratos_EDCA'].count_documents({})\n",
    "print(f\"Número de documentos en la colección 'Contratos_EDCA': {num_documents}\")\n",
    "\n",
    "# Obteniendo la última actualización de la base de datos\n",
    "# Esto asume que hay una colección que registra las actualizaciones\n",
    "# Reemplaza 'nombre_de_tu_colección_de_registro' con el nombre real de tu colección de registro\n",
    "\n",
    "#  try: [HAY QUE CAMBIAR ESTO POR LA FECHA DEL ÚLTIMO CONTRATO]\n",
    "#     last_update_collection = db['Contratos_EDCA']\n",
    "#     last_update = last_update_collection.find().sort(\"fecha\", -1).limit(1)\n",
    "#     for update in last_update:\n",
    "#         print(f\"Última actualización: {update['fecha']}\")\n",
    "# except Exception as e:\n",
    "#     print(f\"No se pudo obtener la última actualización: {e}\")\n"
   ]
  },
  {
   "cell_type": "markdown",
   "metadata": {},
   "source": [
    "### 3. Crear una muestra pequeña de datos para confirmar que los comandos funcionan.\n",
    "\n",
    "Guardaremos la nueva muestra _Sample_Contratos_EDCA_ en una nueva colección."
   ]
  },
  {
   "cell_type": "code",
   "execution_count": null,
   "metadata": {},
   "outputs": [],
   "source": [
    "# Generando la muestra aleatoria y guardándola en una nueva colección\n",
    "sample_size = int(num_documents * 0.05)  # Calcula el 5% del total de documentos\n",
    "print(f\"Número de documentos en la muestra aleatoria es: {sample_size}\")\n",
    "\n",
    "# Realiza la agregación para obtener la muestra aleatoria\n",
    "sample = db['Contratos_EDCA'].aggregate([\n",
    "    { '$sample': { 'size': sample_size } }\n",
    "])\n",
    "sample_documents = list(sample)\n",
    "print(f\"Sample creado\")\n",
    "\n",
    "# Guarda la muestra en una nueva colección\n",
    "db['Sample_Contratos_EDCA'].insert_many(sample_documents)\n",
    "print(f\"Muestra guardada en la colección 'Sample_Contratos_EDCA'!\")\n"
   ]
  },
  {
   "cell_type": "code",
   "execution_count": 5,
   "metadata": {},
   "outputs": [
    {
     "name": "stdout",
     "output_type": "stream",
     "text": [
      "                    ObjectId                          License\n",
      "0   639b994c0926ea7b12ed2968  https://datos.gob.mx/libreusomx\n",
      "1   650a0c852fe42aff3d692726  https://datos.gob.mx/libreusomx\n",
      "2   6365e96fea98b53ae64b6578  https://datos.gob.mx/libreusomx\n",
      "3   6365ede4ba7e8d6512d2ab40  https://datos.gob.mx/libreusomx\n",
      "4   6318f86df7e2543d58fd9788  https://datos.gob.mx/libreusomx\n",
      "5   6365e7c3a149e923a0a2c28a  https://datos.gob.mx/libreusomx\n",
      "6   6162e12bd3080ff91314c9ac  https://datos.gob.mx/libreusomx\n",
      "7   63bd6d7e145c4f2b3955e08b  https://datos.gob.mx/libreusomx\n",
      "8   634b2cb4aa1ab7afac3d5fe9  https://datos.gob.mx/libreusomx\n",
      "9   6162a395c19cef8fb446ffc4  https://datos.gob.mx/libreusomx\n",
      "10  62fd8856077ce42fd04d3579  https://datos.gob.mx/libreusomx\n",
      "11  627dde987d9b27da8199194b  https://datos.gob.mx/libreusomx\n",
      "12  6318ea4b4007f8e278a6e922  https://datos.gob.mx/libreusomx\n",
      "13  6162c1c072fd56d97c75b6b2  https://datos.gob.mx/libreusomx\n",
      "14  627ddfdbe646a34444e2abe1  https://datos.gob.mx/libreusomx\n",
      "15  62fd7517d3f5f13ba45098f3  https://datos.gob.mx/libreusomx\n",
      "16  639b8ca3e7c9bba3b5e28d65  https://datos.gob.mx/libreusomx\n",
      "17  634b29532f6a0bc89a0dd0b3  https://datos.gob.mx/libreusomx\n",
      "18  6162bc70bc5b9161b1fd4357  https://datos.gob.mx/libreusomx\n",
      "19  61bb67cb5f72e9a858dbca2a  https://datos.gob.mx/libreusomx\n"
     ]
    }
   ],
   "source": [
    "# Consulta actualizada a la base de datos Sample_Contratos_EDCA para traer sólo los 10 primeros registros con los campos license y ObjectId\n",
    "consulta_actualizada = db['Sample_Contratos_EDCA'].find({}, {'license': 1, '_id': 1})\n",
    "# Creando un dataframe con los resultados de la consulta actualizada\n",
    "\n",
    "\n",
    "# Creando una lista de diccionarios para facilitar la creación del dataframe\n",
    "datos = [{'ObjectId': contrato['_id'], 'License': contrato.get('license', 'No especificado')} for contrato in consulta_actualizada.limit(20)]\n",
    "\n",
    "# Obtén una tabla con los 20 primeros registros de parties. Las columnas deben ser los campos de name y id\n",
    "parties_data = db['Sample_Contratos_EDCA'].find({}, {'name': 1, 'id': 1}).limit(20)\n",
    "\n",
    "# Creando el dataframe\n",
    "df_contratos = pd.DataFrame(datos)\n",
    "\n",
    "# Exportando el dataframe a un archivo csv\n",
    "#df_contratos.to_csv('contratos_sample.csv', index=False)\n",
    "print(df_contratos)\n",
    "\n"
   ]
  },
  {
   "cell_type": "code",
   "execution_count": 7,
   "metadata": {},
   "outputs": [
    {
     "name": "stdout",
     "output_type": "stream",
     "text": [
      "                                                  uri  \\\n",
      "0   http://172.23.106.220:8080/OCDSWS/rest/ocid/-2...   \n",
      "1   http://172.23.106.220:8080/OCDSWS/rest/ocid/-2...   \n",
      "2   http://172.23.106.220:8080/OCDSWS/rest/ocid/-2...   \n",
      "3   http://172.23.106.220:8080/OCDSWS/rest/ocid/-2...   \n",
      "4   http://172.23.106.220:8080/OCDSWS/rest/ocid/oc...   \n",
      "5   http://172.23.106.220:8080/OCDSWS/rest/ocid/-2...   \n",
      "6   http://172.23.106.220:8080/OCDSWS/rest/ocid/oc...   \n",
      "7   http://172.23.106.220:8080/OCDSWS/rest/ocid/-2...   \n",
      "8   http://172.23.106.220:8080/OCDSWS/rest/ocid/-2...   \n",
      "9   http://172.23.106.220:8080/OCDSWS/rest/ocid/oc...   \n",
      "10  http://172.23.106.220:8080/OCDSWS/rest/ocid/oc...   \n",
      "11  http://172.23.106.220:8080/OCDSWS/rest/ocid/oc...   \n",
      "12  http://172.23.106.220:8080/OCDSWS/rest/ocid/oc...   \n",
      "13  http://172.23.106.220:8080/OCDSWS/rest/ocid/oc...   \n",
      "14  http://172.23.106.220:8080/OCDSWS/rest/ocid/oc...   \n",
      "15  http://172.23.106.220:8080/OCDSWS/rest/ocid/oc...   \n",
      "16  http://172.23.106.220:8080/OCDSWS/rest/ocid/-2...   \n",
      "17  http://172.23.106.220:8080/OCDSWS/rest/ocid/-2...   \n",
      "18  http://172.23.106.220:8080/OCDSWS/rest/ocid/oc...   \n",
      "19  http://172.23.106.220:8080/OCDSWS/rest/ocid/oc...   \n",
      "\n",
      "                    ObjectId                          License  \\\n",
      "0   639b994c0926ea7b12ed2968  https://datos.gob.mx/libreusomx   \n",
      "1   650a0c852fe42aff3d692726  https://datos.gob.mx/libreusomx   \n",
      "2   6365e96fea98b53ae64b6578  https://datos.gob.mx/libreusomx   \n",
      "3   6365ede4ba7e8d6512d2ab40  https://datos.gob.mx/libreusomx   \n",
      "4   6318f86df7e2543d58fd9788  https://datos.gob.mx/libreusomx   \n",
      "5   6365e7c3a149e923a0a2c28a  https://datos.gob.mx/libreusomx   \n",
      "6   6162e12bd3080ff91314c9ac  https://datos.gob.mx/libreusomx   \n",
      "7   63bd6d7e145c4f2b3955e08b  https://datos.gob.mx/libreusomx   \n",
      "8   634b2cb4aa1ab7afac3d5fe9  https://datos.gob.mx/libreusomx   \n",
      "9   6162a395c19cef8fb446ffc4  https://datos.gob.mx/libreusomx   \n",
      "10  62fd8856077ce42fd04d3579  https://datos.gob.mx/libreusomx   \n",
      "11  627dde987d9b27da8199194b  https://datos.gob.mx/libreusomx   \n",
      "12  6318ea4b4007f8e278a6e922  https://datos.gob.mx/libreusomx   \n",
      "13  6162c1c072fd56d97c75b6b2  https://datos.gob.mx/libreusomx   \n",
      "14  627ddfdbe646a34444e2abe1  https://datos.gob.mx/libreusomx   \n",
      "15  62fd7517d3f5f13ba45098f3  https://datos.gob.mx/libreusomx   \n",
      "16  639b8ca3e7c9bba3b5e28d65  https://datos.gob.mx/libreusomx   \n",
      "17  634b29532f6a0bc89a0dd0b3  https://datos.gob.mx/libreusomx   \n",
      "18  6162bc70bc5b9161b1fd4357  https://datos.gob.mx/libreusomx   \n",
      "19  61bb67cb5f72e9a858dbca2a  https://datos.gob.mx/libreusomx   \n",
      "\n",
      "                                      Publisher  \n",
      "0                                          None  \n",
      "1                                          None  \n",
      "2                                          None  \n",
      "3                                          None  \n",
      "4   SECRETARÃA DE HACIENDA Y CRÃDITO PÃBLICO  \n",
      "5                                          None  \n",
      "6      SECRETARÍA DE HACIENDA Y CRÉDITO PÚBLICO  \n",
      "7                                          None  \n",
      "8                                          None  \n",
      "9      SECRETARÍA DE HACIENDA Y CRÉDITO PÚBLICO  \n",
      "10  SECRETARÃA DE HACIENDA Y CRÃDITO PÃBLICO  \n",
      "11  SECRETARÃA DE HACIENDA Y CRÃDITO PÃBLICO  \n",
      "12  SECRETARÃA DE HACIENDA Y CRÃDITO PÃBLICO  \n",
      "13     SECRETARÍA DE HACIENDA Y CRÉDITO PÚBLICO  \n",
      "14  SECRETARÃA DE HACIENDA Y CRÃDITO PÃBLICO  \n",
      "15  SECRETARÃA DE HACIENDA Y CRÃDITO PÃBLICO  \n",
      "16                                         None  \n",
      "17                                         None  \n",
      "18     SECRETARÍA DE HACIENDA Y CRÉDITO PÚBLICO  \n",
      "19     SECRETARÍA DE HACIENDA Y CRÉDITO PÚBLICO  \n"
     ]
    }
   ],
   "source": [
    "# Consulta actualizada a la base de datos Sample_Contratos_EDCA para traer sólo los 10 primeros registros con los campos license y ObjectId\n",
    "consulta_actualizada = db['Sample_Contratos_EDCA'].find({}, {})\n",
    "# Creando un dataframe con los resultados de la consulta actualizada\n",
    "\n",
    "# Creando una lista de diccionarios para facilitar la creación del dataframe\n",
    "datos = []\n",
    "for contrato in consulta_actualizada.limit(20):\n",
    "    contrato_dict = {\n",
    "        'uri': contrato['uri'],\n",
    "        'ObjectId': contrato['_id'],\n",
    "        'License': contrato.get('license', 'No especificado'),\n",
    "        'Publisher': contrato['publisher']['name']\n",
    "    }\n",
    "    datos.append(contrato_dict)\n",
    "\n",
    "# Creando el dataframe\n",
    "df_contratos = pd.DataFrame(datos)\n",
    "\n",
    "# Exportando el dataframe a un archivo csv\n",
    "#df_contratos.to_csv('contratos_sample.csv', index=False)\n",
    "print(df_contratos)"
   ]
  },
  {
   "cell_type": "code",
   "execution_count": null,
   "metadata": {},
   "outputs": [],
   "source": []
  }
 ],
 "metadata": {
  "kernelspec": {
   "display_name": "pymongo_env",
   "language": "python",
   "name": "python3"
  },
  "language_info": {
   "codemirror_mode": {
    "name": "ipython",
    "version": 3
   },
   "file_extension": ".py",
   "mimetype": "text/x-python",
   "name": "python",
   "nbconvert_exporter": "python",
   "pygments_lexer": "ipython3",
   "version": "3.12.2"
  }
 },
 "nbformat": 4,
 "nbformat_minor": 2
}
