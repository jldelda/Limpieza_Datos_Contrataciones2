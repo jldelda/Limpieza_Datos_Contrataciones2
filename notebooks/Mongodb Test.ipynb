{
 "cells": [
  {
   "cell_type": "markdown",
   "metadata": {},
   "source": [
    "# Test MongoDB\n",
    "El objetivo de este Jupyter notebook es testear que la base de datos MongoDB esté correctamente instalada, creada completa con la última actualización de los datos que has corrido.\n",
    "\n",
    "Para ello, ejecutaremos los siguientes tests:\n",
    "1. Conexión a la base de datos MongoDB en local.\n",
    "2. Revisar el tamaño y la última actualización de los datos.\n",
    "3. Crear una muestra pequeña de datos para confirmar que los comandos funcionan.\n",
    "\n",
    "Nota: La base de datos original tiene más de 24GB, por lo que cada request a la base de datos puede demorar mucho tiempo si no se ejecuta en un sistema en paralelo."
   ]
  },
  {
   "cell_type": "code",
   "execution_count": 1,
   "metadata": {},
   "outputs": [],
   "source": [
    "import pymongo\n",
    "from pymongo import MongoClient"
   ]
  },
  {
   "cell_type": "markdown",
   "metadata": {},
   "source": [
    "### 1. Conexión a la base de datos MongoDB en local."
   ]
  },
  {
   "cell_type": "code",
   "execution_count": 2,
   "metadata": {},
   "outputs": [
    {
     "name": "stdout",
     "output_type": "stream",
     "text": [
      "Conexión exitosa a la base de datos y la colección encontrada.\n",
      "Bases de datos disponibles son: ['Contrataciones', 'Test', 'admin', 'config', 'local']\n"
     ]
    }
   ],
   "source": [
    "# Reemplaza 'localhost' con la dirección de tu servidor MongoDB si es diferente\n",
    "# y '27017' con el puerto correspondiente si has configurado uno distinto.\n",
    "client = MongoClient('mongodb://localhost:27017/')\n",
    "\n",
    "# Reemplaza 'nombre_de_tu_base_de_datos' con el nombre de tu base de datos\n",
    "db = client['Contrataciones']\n",
    "\n",
    "# Intenta obtener una colección para verificar la conexión\n",
    "try:\n",
    "    # Reemplaza 'nombre_de_tu_colección' con el nombre de una colección existente en tu base de datos\n",
    "    colecciones = db.list_collection_names()  # Lista todas las colecciones para verificar la conexión\n",
    "    if 'Contratos_EDCA' in colecciones:\n",
    "        print(\"Conexión exitosa a la base de datos y la colección encontrada.\")\n",
    "    else:\n",
    "        print(\"Conexión exitosa a la base de datos, pero la colección no fue encontrada.\")\n",
    "except Exception as e:\n",
    "    print(f\"Error al conectar a la base de datos: {e}\")\n",
    "\n",
    "\n",
    "# Listar todas las bases de datos\n",
    "databases = client.list_database_names()\n",
    "\n",
    "# Imprimir la lista de bases de datos\n",
    "print(\"Bases de datos disponibles son:\", databases)"
   ]
  },
  {
   "cell_type": "markdown",
   "metadata": {},
   "source": [
    "### 2. Revisar el tamaño y la última actualización de los datos."
   ]
  },
  {
   "cell_type": "code",
   "execution_count": 3,
   "metadata": {},
   "outputs": [
    {
     "name": "stdout",
     "output_type": "stream",
     "text": [
      "Obteniendo el tamaño de la base de datos.\n",
      "Tamaño de la base de datos: 7.33831787109375 GB\n",
      "Obteniendo el número de documentos. Este proceso puede tardar hasta 3 minutos...\n",
      "Número de documentos en la colección 'Contratos_EDCA': 2742266\n"
     ]
    }
   ],
   "source": [
    "# Imprimir el tamaño de la base de datos, número de colecciones y última actualización\n",
    "\n",
    "# Obteniendo el tamaño de la base de datos en GB\n",
    "print(f\"Obteniendo el tamaño de la base de datos.\")\n",
    "db_stats = db.command(\"dbstats\")\n",
    "db_size_gb = db_stats['storageSize'] / (1024**3)  # Convertir bytes a GB\n",
    "print(f\"Tamaño de la base de datos: {db_size_gb} GB\")\n",
    "\n",
    "# Obteniendo el número de documentos en la colección 'Contratos_EDCA'\n",
    "print(f\"Obteniendo el número de documentos. Este proceso puede tardar hasta 3 minutos...\")\n",
    "num_documents = db['Contratos_EDCA'].count_documents({})\n",
    "print(f\"Número de documentos en la colección 'Contratos_EDCA': {num_documents}\")\n",
    "\n",
    "# Obteniendo la última actualización de la base de datos\n",
    "# Esto asume que hay una colección que registra las actualizaciones\n",
    "# Reemplaza 'nombre_de_tu_colección_de_registro' con el nombre real de tu colección de registro\n",
    "\n",
    "#  try: [HAY QUE CAMBIAR ESTO POR LA FECHA DEL ÚLTIMO CONTRATO]\n",
    "#     last_update_collection = db['Contratos_EDCA']\n",
    "#     last_update = last_update_collection.find().sort(\"fecha\", -1).limit(1)\n",
    "#     for update in last_update:\n",
    "#         print(f\"Última actualización: {update['fecha']}\")\n",
    "# except Exception as e:\n",
    "#     print(f\"No se pudo obtener la última actualización: {e}\")\n"
   ]
  },
  {
   "cell_type": "markdown",
   "metadata": {},
   "source": [
    "### 3. Crear una muestra pequeña de datos para confirmar que los comandos funcionan.\n",
    "\n",
    "Guardaremos la nueva muestra _Sample_Contratos_EDCA_ en una nueva colección."
   ]
  },
  {
   "cell_type": "code",
   "execution_count": 10,
   "metadata": {},
   "outputs": [
    {
     "name": "stdout",
     "output_type": "stream",
     "text": [
      "Número de documentos en la muestra aleatoria es: 137113\n",
      "Sample creado\n",
      "Muestra guardada en la colección 'Sample_Contratos_EDCA'!\n"
     ]
    }
   ],
   "source": [
    "# Generando la muestra aleatoria y guardándola en una nueva colección\n",
    "sample_size = int(num_documents * 0.05)  # Calcula el 5% del total de documentos\n",
    "print(f\"Número de documentos en la muestra aleatoria es: {sample_size}\")\n",
    "\n",
    "# Realiza la agregación para obtener la muestra aleatoria\n",
    "sample = db['Contratos_EDCA'].aggregate([\n",
    "    { '$sample': { 'size': sample_size } }\n",
    "])\n",
    "sample_documents = list(sample)\n",
    "print(f\"Sample creado\")\n",
    "\n",
    "# Guarda la muestra en una nueva colección\n",
    "db['Sample_Contratos_EDCA'].insert_many(sample_documents)\n",
    "print(f\"Muestra guardada en la colección 'Sample_Contratos_EDCA'!\")\n",
    "\n"
   ]
  },
  {
   "cell_type": "code",
   "execution_count": 19,
   "metadata": {},
   "outputs": [
    {
     "ename": "AttributeError",
     "evalue": "'CommandCursor' object has no attribute 'find'",
     "output_type": "error",
     "traceback": [
      "\u001b[0;31m---------------------------------------------------------------------------\u001b[0m",
      "\u001b[0;31mAttributeError\u001b[0m                            Traceback (most recent call last)",
      "Cell \u001b[0;32mIn[19], line 2\u001b[0m\n\u001b[1;32m      1\u001b[0m \u001b[38;5;66;03m# Realizando la consulta con sort y limit\u001b[39;00m\n\u001b[0;32m----> 2\u001b[0m resultados \u001b[38;5;241m=\u001b[39m \u001b[43msample\u001b[49m\u001b[38;5;241;43m.\u001b[39;49m\u001b[43mfind\u001b[49m()\u001b[38;5;241m.\u001b[39msort(\u001b[38;5;124m'\u001b[39m\u001b[38;5;124mpublishedDate\u001b[39m\u001b[38;5;124m'\u001b[39m, \u001b[38;5;241m-\u001b[39m\u001b[38;5;241m1\u001b[39m)\u001b[38;5;241m.\u001b[39mlimit(\u001b[38;5;241m5\u001b[39m)\n\u001b[1;32m      4\u001b[0m \u001b[38;5;66;03m# Iterando sobre los resultados y haciendo algo con ellos\u001b[39;00m\n\u001b[1;32m      5\u001b[0m \u001b[38;5;28;01mfor\u001b[39;00m documento \u001b[38;5;129;01min\u001b[39;00m resultados:\n",
      "\u001b[0;31mAttributeError\u001b[0m: 'CommandCursor' object has no attribute 'find'"
     ]
    }
   ],
   "source": [
    "# Realizando la consulta con sort y limit\n",
    "resultados = Sample_Contratos_EDCA.find().sort('publishedDate', -1).limit(5)\n",
    "\n",
    "# Iterando sobre los resultados y haciendo algo con ellos\n",
    "for documento in resultados:\n",
    "    print(documento)"
   ]
  }
 ],
 "metadata": {
  "kernelspec": {
   "display_name": "pymongo_env",
   "language": "python",
   "name": "python3"
  },
  "language_info": {
   "codemirror_mode": {
    "name": "ipython",
    "version": 3
   },
   "file_extension": ".py",
   "mimetype": "text/x-python",
   "name": "python",
   "nbconvert_exporter": "python",
   "pygments_lexer": "ipython3",
   "version": "3.12.2"
  }
 },
 "nbformat": 4,
 "nbformat_minor": 2
}
