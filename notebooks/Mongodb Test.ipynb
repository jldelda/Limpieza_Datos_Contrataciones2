{
 "cells": [
  {
   "cell_type": "markdown",
   "metadata": {},
   "source": [
    "# Test MongoDB\n",
    "El objetivo de este Jupyter notebook es testear que la base de datos MongoDB esté correctamente instalada, creada completa con la última actualización de los datos que has corrido.\n",
    "\n",
    "Para ello, ejecutaremos los siguientes tests:\n",
    "1. Conexión a la base de datos MongoDB en local.\n",
    "2. Revisar el tamaño y la última actualización de los datos.\n",
    "3. Crear una muestra pequeña de datos para confirmar que los comandos funcionan.\n",
    "\n",
    "Nota: La base de datos original tiene más de 24GB, por lo que cada request a la base de datos puede demorar mucho tiempo si no se ejecuta en un sistema en paralelo."
   ]
  },
  {
   "cell_type": "code",
   "execution_count": 1,
   "metadata": {},
   "outputs": [],
   "source": [
    "import pymongo\n",
    "from pymongo import MongoClient"
   ]
  },
  {
   "cell_type": "markdown",
   "metadata": {},
   "source": [
    "### 1. Conexión a la base de datos MongoDB en local."
   ]
  },
  {
   "cell_type": "code",
   "execution_count": 2,
   "metadata": {},
   "outputs": [
    {
     "name": "stdout",
     "output_type": "stream",
     "text": [
      "Conexión exitosa a la base de datos y la colección encontrada.\n"
     ]
    }
   ],
   "source": [
    "# Reemplaza 'localhost' con la dirección de tu servidor MongoDB si es diferente\n",
    "# y '27017' con el puerto correspondiente si has configurado uno distinto.\n",
    "client = MongoClient('mongodb://localhost:27017/')\n",
    "\n",
    "# Reemplaza 'nombre_de_tu_base_de_datos' con el nombre de tu base de datos\n",
    "db = client['Contrataciones']\n",
    "\n",
    "# Intenta obtener una colección para verificar la conexión\n",
    "try:\n",
    "    # Reemplaza 'nombre_de_tu_colección' con el nombre de una colección existente en tu base de datos\n",
    "    colecciones = db.list_collection_names()  # Lista todas las colecciones para verificar la conexión\n",
    "    if 'Contratos_EDCA' in colecciones:\n",
    "        print(\"Conexión exitosa a la base de datos y la colección encontrada.\")\n",
    "    else:\n",
    "        print(\"Conexión exitosa a la base de datos, pero la colección no fue encontrada.\")\n",
    "except Exception as e:\n",
    "    print(f\"Error al conectar a la base de datos: {e}\")"
   ]
  },
  {
   "cell_type": "markdown",
   "metadata": {},
   "source": [
    "### 2. Revisar el tamaño y la última actualización de los datos."
   ]
  },
  {
   "cell_type": "code",
   "execution_count": 11,
   "metadata": {},
   "outputs": [
    {
     "name": "stdout",
     "output_type": "stream",
     "text": [
      "Obteniendo el tamaño de la base de datos. Este proceso puede tardar hasta 3 minutos...\n",
      "Tamaño de la base de datos: 6.575344085693359 GB\n",
      "Número de documentos en la colección 'Contratos_EDCA': 2742266\n"
     ]
    }
   ],
   "source": [
    "# Imprimir el tamaño de la base de datos, número de colecciones y última actualización\n",
    "\n",
    "# Obteniendo el tamaño de la base de datos en GB\n",
    "print(f\"Obteniendo el tamaño de la base de datos.\")\n",
    "db_stats = db.command(\"dbstats\")\n",
    "db_size_gb = db_stats['storageSize'] / (1024**3)  # Convertir bytes a GB\n",
    "print(f\"Tamaño de la base de datos: {db_size_gb} GB\")\n",
    "\n",
    "# Obteniendo el número de documentos en la colección 'Contratos_EDCA'\n",
    "print(f\"Obteniendo el número de documentos. Este proceso puede tardar hasta 3 minutos...\")\n",
    "num_documents = db['Contratos_EDCA'].count_documents({})\n",
    "print(f\"Número de documentos en la colección 'Contratos_EDCA': {num_documents}\")\n",
    "\n",
    "# Obteniendo la última actualización de la base de datos\n",
    "# Esto asume que hay una colección que registra las actualizaciones\n",
    "# Reemplaza 'nombre_de_tu_colección_de_registro' con el nombre real de tu colección de registro\n",
    "\n",
    "#  try: [HAY QUE CAMBIAR ESTO POR LA FECHA DEL ÚLTIMO CONTRATO]\n",
    "#     last_update_collection = db['Contratos_EDCA']\n",
    "#     last_update = last_update_collection.find().sort(\"fecha\", -1).limit(1)\n",
    "#     for update in last_update:\n",
    "#         print(f\"Última actualización: {update['fecha']}\")\n",
    "# except Exception as e:\n",
    "#     print(f\"No se pudo obtener la última actualización: {e}\")\n"
   ]
  },
  {
   "cell_type": "markdown",
   "metadata": {},
   "source": [
    "### 3. Crear una muestra pequeña de datos para confirmar que los comandos funcionan."
   ]
  },
  {
   "cell_type": "code",
   "execution_count": 15,
   "metadata": {},
   "outputs": [
    {
     "name": "stdout",
     "output_type": "stream",
     "text": [
      "Número de documentos en la muestra aleatoria es: 137113\n",
      "Muestra realizada!\n"
     ]
    }
   ],
   "source": [
    "# Generando la muestra aleatoria\n",
    "sample_size = int(num_documents * 0.05)  # Calcula el 5% del total de documentos\n",
    "print(f\"Número de documentos en la muestra aleatoria es: {sample_size}\")\n",
    "\n",
    "sample = db['Contratos_EDCA'].aggregate([\n",
    "    { '$sample': { 'size': sample_size } }\n",
    "])\n",
    "print(f\"Muestra realizada!\")\n",
    "\n"
   ]
  }
 ],
 "metadata": {
  "kernelspec": {
   "display_name": "pymongo_env",
   "language": "python",
   "name": "python3"
  },
  "language_info": {
   "codemirror_mode": {
    "name": "ipython",
    "version": 3
   },
   "file_extension": ".py",
   "mimetype": "text/x-python",
   "name": "python",
   "nbconvert_exporter": "python",
   "pygments_lexer": "ipython3",
   "version": "3.12.2"
  }
 },
 "nbformat": 4,
 "nbformat_minor": 2
}
