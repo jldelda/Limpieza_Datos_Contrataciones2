{
 "cells": [
  {
   "cell_type": "markdown",
   "metadata": {},
   "source": [
    "# Dask computing"
   ]
  },
  {
   "cell_type": "code",
   "execution_count": 1,
   "metadata": {},
   "outputs": [],
   "source": [
    "import pymongo\n",
    "from pymongo import MongoClient\n",
    "from distributed import client"
   ]
  },
  {
   "cell_type": "markdown",
   "metadata": {},
   "source": [
    "### 1. Conexión a la base de datos MongoDB en local."
   ]
  },
  {
   "cell_type": "code",
   "execution_count": 2,
   "metadata": {},
   "outputs": [
    {
     "name": "stdout",
     "output_type": "stream",
     "text": [
      "Conexión exitosa a la base de datos y la colección encontrada.\n",
      "Bases de datos disponibles son: ['Contrataciones', 'Test', 'admin', 'config', 'local']\n"
     ]
    }
   ],
   "source": [
    "# Reemplaza 'localhost' con la dirección de tu servidor MongoDB si es diferente\n",
    "# y '27017' con el puerto correspondiente si has configurado uno distinto.\n",
    "client = MongoClient('mongodb://localhost:27017/')\n",
    "\n",
    "# Reemplaza 'nombre_de_tu_base_de_datos' con el nombre de tu base de datos\n",
    "db = client['Contrataciones']\n",
    "\n",
    "# Intenta obtener una colección para verificar la conexión\n",
    "try:\n",
    "    # Reemplaza 'nombre_de_tu_colección' con el nombre de una colección existente en tu base de datos\n",
    "    colecciones = db.list_collection_names()  # Lista todas las colecciones para verificar la conexión\n",
    "    if 'Contratos_EDCA' in colecciones:\n",
    "        print(\"Conexión exitosa a la base de datos y la colección encontrada.\")\n",
    "    else:\n",
    "        print(\"Conexión exitosa a la base de datos, pero la colección no fue encontrada.\")\n",
    "except Exception as e:\n",
    "    print(f\"Error al conectar a la base de datos: {e}\")\n",
    "\n",
    "\n",
    "# Listar todas las bases de datos\n",
    "databases = client.list_database_names()\n",
    "\n",
    "# Imprimir la lista de bases de datos\n",
    "print(\"Bases de datos disponibles son:\", databases)"
   ]
  },
  {
   "cell_type": "markdown",
   "metadata": {},
   "source": [
    "### 2. Revisar el tamaño y la última actualización de los datos."
   ]
  },
  {
   "cell_type": "code",
   "execution_count": 3,
   "metadata": {},
   "outputs": [
    {
     "name": "stdout",
     "output_type": "stream",
     "text": [
      "Obteniendo el tamaño de la base de datos.\n",
      "Tamaño de la base de datos: 7.33831787109375 GB\n",
      "Obteniendo el número de documentos. Este proceso puede tardar hasta 3 minutos...\n",
      "Número de documentos en la colección 'Contratos_EDCA': 2742266\n"
     ]
    }
   ],
   "source": [
    "# Imprimir el tamaño de la base de datos, número de colecciones y última actualización\n",
    "\n",
    "# Obteniendo el tamaño de la base de datos en GB\n",
    "print(f\"Obteniendo el tamaño de la base de datos.\")\n",
    "db_stats = db.command(\"dbstats\")\n",
    "db_size_gb = db_stats['storageSize'] / (1024**3)  # Convertir bytes a GB\n",
    "print(f\"Tamaño de la base de datos: {db_size_gb} GB\")\n",
    "\n",
    "# Obteniendo el número de documentos en la colección 'Contratos_EDCA'\n",
    "print(f\"Obteniendo el número de documentos. Este proceso puede tardar hasta 3 minutos...\")\n",
    "num_documents = db['Contratos_EDCA'].count_documents({})\n",
    "print(f\"Número de documentos en la colección 'Contratos_EDCA': {num_documents}\")\n",
    "\n",
    "# Obteniendo la última actualización de la base de datos\n",
    "# Esto asume que hay una colección que registra las actualizaciones\n",
    "# Reemplaza 'nombre_de_tu_colección_de_registro' con el nombre real de tu colección de registro\n",
    "\n",
    "#  try: [HAY QUE CAMBIAR ESTO POR LA FECHA DEL ÚLTIMO CONTRATO]\n",
    "#     last_update_collection = db['Contratos_EDCA']\n",
    "#     last_update = last_update_collection.find().sort(\"fecha\", -1).limit(1)\n",
    "#     for update in last_update:\n",
    "#         print(f\"Última actualización: {update['fecha']}\")\n",
    "# except Exception as e:\n",
    "#     print(f\"No se pudo obtener la última actualización: {e}\")\n"
   ]
  },
  {
   "cell_type": "code",
   "execution_count": 13,
   "metadata": {},
   "outputs": [
    {
     "name": "stdout",
     "output_type": "stream",
     "text": [
      "Número de documentos en la colección 'Sample_Contratos_EDCA' para el año 2024: 0\n"
     ]
    }
   ],
   "source": [
    "from pymongo import MongoClient\n",
    "from datetime import datetime\n",
    "\n",
    "# Conexión a MongoDB\n",
    "cliente_mongo = MongoClient('mongodb://localhost:27017/')\n",
    "db = cliente_mongo['Contrataciones']  # Reemplaza con el nombre de tu base de datos si es necesario\n",
    "\n",
    "# Contar el número de documentos con fecha del año 2024 en la colección Sample_Contratos_EDCA\n",
    "inicio_2024 = datetime(2024, 1, 1)\n",
    "fin_2024 = datetime(2024, 12, 31)\n",
    "numero_documentos_2024 = db['Contratos_EDCA'].count_documents({'fecha': {'$gte': inicio_2024, '$lte': fin_2024}})\n",
    "print(f\"Número de documentos en la base de datos 'Contrataciones' para el año 2024: {numero_documentos_2024}\")\n",
    "\n"
   ]
  },
  {
   "cell_type": "code",
   "execution_count": 9,
   "metadata": {},
   "outputs": [
    {
     "name": "stderr",
     "output_type": "stream",
     "text": [
      "/Users/jldelda/Documents/4 WORK/7 Mottum.io/2 CONSULTORÍAS/2024_01 UNDP_SESNA ANTICORRUPCIÓN_MEXICO/3 Desarrollo/Limpieza_Datos_Contrataciones/pymongo_env/lib/python3.12/site-packages/distributed/node.py:182: UserWarning: Port 8787 is already in use.\n",
      "Perhaps you already have a cluster running?\n",
      "Hosting the HTTP server on port 52288 instead\n",
      "  warnings.warn(\n",
      "2024-03-26 14:08:13,168 - distributed.protocol.pickle - ERROR - Failed to serialize <ToPickle: HighLevelGraph with 2 layers.\n",
      "<dask.highlevelgraph.HighLevelGraph object at 0x11603ec30>\n",
      " 0. contar_documentos-4f598d2a-1158-468e-a096-40be417fb194\n",
      " 1. obtener_tamano_db-7dfc818a-e043-4d5c-bb54-804b0ae8e861\n",
      ">.\n",
      "Traceback (most recent call last):\n",
      "  File \"/Users/jldelda/Documents/4 WORK/7 Mottum.io/2 CONSULTORÍAS/2024_01 UNDP_SESNA ANTICORRUPCIÓN_MEXICO/3 Desarrollo/Limpieza_Datos_Contrataciones/pymongo_env/lib/python3.12/site-packages/distributed/protocol/pickle.py\", line 77, in dumps\n",
      "    result = cloudpickle.dumps(x, **dump_kwargs)\n",
      "             ^^^^^^^^^^^^^^^^^^^^^^^^^^^^^^^^^^^\n",
      "  File \"/Users/jldelda/Documents/4 WORK/7 Mottum.io/2 CONSULTORÍAS/2024_01 UNDP_SESNA ANTICORRUPCIÓN_MEXICO/3 Desarrollo/Limpieza_Datos_Contrataciones/pymongo_env/lib/python3.12/site-packages/cloudpickle/cloudpickle.py\", line 1479, in dumps\n",
      "    cp.dump(obj)\n",
      "  File \"/Users/jldelda/Documents/4 WORK/7 Mottum.io/2 CONSULTORÍAS/2024_01 UNDP_SESNA ANTICORRUPCIÓN_MEXICO/3 Desarrollo/Limpieza_Datos_Contrataciones/pymongo_env/lib/python3.12/site-packages/cloudpickle/cloudpickle.py\", line 1245, in dump\n",
      "    return super().dump(obj)\n",
      "           ^^^^^^^^^^^^^^^^^\n",
      "TypeError: cannot pickle '_thread.lock' object\n",
      "\n",
      "During handling of the above exception, another exception occurred:\n",
      "\n",
      "Traceback (most recent call last):\n",
      "  File \"/Users/jldelda/Documents/4 WORK/7 Mottum.io/2 CONSULTORÍAS/2024_01 UNDP_SESNA ANTICORRUPCIÓN_MEXICO/3 Desarrollo/Limpieza_Datos_Contrataciones/pymongo_env/lib/python3.12/site-packages/distributed/protocol/pickle.py\", line 81, in dumps\n",
      "    result = cloudpickle.dumps(x, **dump_kwargs)\n",
      "             ^^^^^^^^^^^^^^^^^^^^^^^^^^^^^^^^^^^\n",
      "  File \"/Users/jldelda/Documents/4 WORK/7 Mottum.io/2 CONSULTORÍAS/2024_01 UNDP_SESNA ANTICORRUPCIÓN_MEXICO/3 Desarrollo/Limpieza_Datos_Contrataciones/pymongo_env/lib/python3.12/site-packages/cloudpickle/cloudpickle.py\", line 1479, in dumps\n",
      "    cp.dump(obj)\n",
      "  File \"/Users/jldelda/Documents/4 WORK/7 Mottum.io/2 CONSULTORÍAS/2024_01 UNDP_SESNA ANTICORRUPCIÓN_MEXICO/3 Desarrollo/Limpieza_Datos_Contrataciones/pymongo_env/lib/python3.12/site-packages/cloudpickle/cloudpickle.py\", line 1245, in dump\n",
      "    return super().dump(obj)\n",
      "           ^^^^^^^^^^^^^^^^^\n",
      "TypeError: cannot pickle '_thread.lock' object\n"
     ]
    },
    {
     "ename": "TypeError",
     "evalue": "('Could not serialize object of type HighLevelGraph', '<ToPickle: HighLevelGraph with 2 layers.\\n<dask.highlevelgraph.HighLevelGraph object at 0x11603ec30>\\n 0. contar_documentos-4f598d2a-1158-468e-a096-40be417fb194\\n 1. obtener_tamano_db-7dfc818a-e043-4d5c-bb54-804b0ae8e861\\n>')",
     "output_type": "error",
     "traceback": [
      "\u001b[0;31m---------------------------------------------------------------------------\u001b[0m",
      "\u001b[0;31mTypeError\u001b[0m                                 Traceback (most recent call last)",
      "File \u001b[0;32m~/Documents/4 WORK/7 Mottum.io/2 CONSULTORÍAS/2024_01 UNDP_SESNA ANTICORRUPCIÓN_MEXICO/3 Desarrollo/Limpieza_Datos_Contrataciones/pymongo_env/lib/python3.12/site-packages/distributed/protocol/pickle.py:77\u001b[0m, in \u001b[0;36mdumps\u001b[0;34m(x, buffer_callback, protocol)\u001b[0m\n\u001b[1;32m     76\u001b[0m             buffers\u001b[38;5;241m.\u001b[39mclear()\n\u001b[0;32m---> 77\u001b[0m             result \u001b[38;5;241m=\u001b[39m \u001b[43mcloudpickle\u001b[49m\u001b[38;5;241;43m.\u001b[39;49m\u001b[43mdumps\u001b[49m\u001b[43m(\u001b[49m\u001b[43mx\u001b[49m\u001b[43m,\u001b[49m\u001b[43m \u001b[49m\u001b[38;5;241;43m*\u001b[39;49m\u001b[38;5;241;43m*\u001b[39;49m\u001b[43mdump_kwargs\u001b[49m\u001b[43m)\u001b[49m\n\u001b[1;32m     78\u001b[0m \u001b[38;5;28;01mexcept\u001b[39;00m \u001b[38;5;167;01mException\u001b[39;00m:\n",
      "File \u001b[0;32m~/Documents/4 WORK/7 Mottum.io/2 CONSULTORÍAS/2024_01 UNDP_SESNA ANTICORRUPCIÓN_MEXICO/3 Desarrollo/Limpieza_Datos_Contrataciones/pymongo_env/lib/python3.12/site-packages/cloudpickle/cloudpickle.py:1479\u001b[0m, in \u001b[0;36mdumps\u001b[0;34m(obj, protocol, buffer_callback)\u001b[0m\n\u001b[1;32m   1478\u001b[0m cp \u001b[38;5;241m=\u001b[39m Pickler(file, protocol\u001b[38;5;241m=\u001b[39mprotocol, buffer_callback\u001b[38;5;241m=\u001b[39mbuffer_callback)\n\u001b[0;32m-> 1479\u001b[0m \u001b[43mcp\u001b[49m\u001b[38;5;241;43m.\u001b[39;49m\u001b[43mdump\u001b[49m\u001b[43m(\u001b[49m\u001b[43mobj\u001b[49m\u001b[43m)\u001b[49m\n\u001b[1;32m   1480\u001b[0m \u001b[38;5;28;01mreturn\u001b[39;00m file\u001b[38;5;241m.\u001b[39mgetvalue()\n",
      "File \u001b[0;32m~/Documents/4 WORK/7 Mottum.io/2 CONSULTORÍAS/2024_01 UNDP_SESNA ANTICORRUPCIÓN_MEXICO/3 Desarrollo/Limpieza_Datos_Contrataciones/pymongo_env/lib/python3.12/site-packages/cloudpickle/cloudpickle.py:1245\u001b[0m, in \u001b[0;36mPickler.dump\u001b[0;34m(self, obj)\u001b[0m\n\u001b[1;32m   1244\u001b[0m \u001b[38;5;28;01mtry\u001b[39;00m:\n\u001b[0;32m-> 1245\u001b[0m     \u001b[38;5;28;01mreturn\u001b[39;00m \u001b[38;5;28;43msuper\u001b[39;49m\u001b[43m(\u001b[49m\u001b[43m)\u001b[49m\u001b[38;5;241;43m.\u001b[39;49m\u001b[43mdump\u001b[49m\u001b[43m(\u001b[49m\u001b[43mobj\u001b[49m\u001b[43m)\u001b[49m\n\u001b[1;32m   1246\u001b[0m \u001b[38;5;28;01mexcept\u001b[39;00m \u001b[38;5;167;01mRuntimeError\u001b[39;00m \u001b[38;5;28;01mas\u001b[39;00m e:\n",
      "\u001b[0;31mTypeError\u001b[0m: cannot pickle '_thread.lock' object",
      "\nDuring handling of the above exception, another exception occurred:\n",
      "\u001b[0;31mTypeError\u001b[0m                                 Traceback (most recent call last)",
      "File \u001b[0;32m~/Documents/4 WORK/7 Mottum.io/2 CONSULTORÍAS/2024_01 UNDP_SESNA ANTICORRUPCIÓN_MEXICO/3 Desarrollo/Limpieza_Datos_Contrataciones/pymongo_env/lib/python3.12/site-packages/distributed/protocol/serialize.py:353\u001b[0m, in \u001b[0;36mserialize\u001b[0;34m(x, serializers, on_error, context, iterate_collection)\u001b[0m\n\u001b[1;32m    352\u001b[0m \u001b[38;5;28;01mtry\u001b[39;00m:\n\u001b[0;32m--> 353\u001b[0m     header, frames \u001b[38;5;241m=\u001b[39m \u001b[43mdumps\u001b[49m\u001b[43m(\u001b[49m\u001b[43mx\u001b[49m\u001b[43m,\u001b[49m\u001b[43m \u001b[49m\u001b[43mcontext\u001b[49m\u001b[38;5;241;43m=\u001b[39;49m\u001b[43mcontext\u001b[49m\u001b[43m)\u001b[49m \u001b[38;5;28;01mif\u001b[39;00m wants_context \u001b[38;5;28;01melse\u001b[39;00m dumps(x)\n\u001b[1;32m    354\u001b[0m     header[\u001b[38;5;124m\"\u001b[39m\u001b[38;5;124mserializer\u001b[39m\u001b[38;5;124m\"\u001b[39m] \u001b[38;5;241m=\u001b[39m name\n",
      "File \u001b[0;32m~/Documents/4 WORK/7 Mottum.io/2 CONSULTORÍAS/2024_01 UNDP_SESNA ANTICORRUPCIÓN_MEXICO/3 Desarrollo/Limpieza_Datos_Contrataciones/pymongo_env/lib/python3.12/site-packages/distributed/protocol/serialize.py:76\u001b[0m, in \u001b[0;36mpickle_dumps\u001b[0;34m(x, context)\u001b[0m\n\u001b[1;32m     74\u001b[0m     writeable\u001b[38;5;241m.\u001b[39mappend(\u001b[38;5;129;01mnot\u001b[39;00m f\u001b[38;5;241m.\u001b[39mreadonly)\n\u001b[0;32m---> 76\u001b[0m frames[\u001b[38;5;241m0\u001b[39m] \u001b[38;5;241m=\u001b[39m \u001b[43mpickle\u001b[49m\u001b[38;5;241;43m.\u001b[39;49m\u001b[43mdumps\u001b[49m\u001b[43m(\u001b[49m\n\u001b[1;32m     77\u001b[0m \u001b[43m    \u001b[49m\u001b[43mx\u001b[49m\u001b[43m,\u001b[49m\n\u001b[1;32m     78\u001b[0m \u001b[43m    \u001b[49m\u001b[43mbuffer_callback\u001b[49m\u001b[38;5;241;43m=\u001b[39;49m\u001b[43mbuffer_callback\u001b[49m\u001b[43m,\u001b[49m\n\u001b[1;32m     79\u001b[0m \u001b[43m    \u001b[49m\u001b[43mprotocol\u001b[49m\u001b[38;5;241;43m=\u001b[39;49m\u001b[43mcontext\u001b[49m\u001b[38;5;241;43m.\u001b[39;49m\u001b[43mget\u001b[49m\u001b[43m(\u001b[49m\u001b[38;5;124;43m\"\u001b[39;49m\u001b[38;5;124;43mpickle-protocol\u001b[39;49m\u001b[38;5;124;43m\"\u001b[39;49m\u001b[43m,\u001b[49m\u001b[43m \u001b[49m\u001b[38;5;28;43;01mNone\u001b[39;49;00m\u001b[43m)\u001b[49m\u001b[43m \u001b[49m\u001b[38;5;28;43;01mif\u001b[39;49;00m\u001b[43m \u001b[49m\u001b[43mcontext\u001b[49m\u001b[43m \u001b[49m\u001b[38;5;28;43;01melse\u001b[39;49;00m\u001b[43m \u001b[49m\u001b[38;5;28;43;01mNone\u001b[39;49;00m\u001b[43m,\u001b[49m\n\u001b[1;32m     80\u001b[0m \u001b[43m\u001b[49m\u001b[43m)\u001b[49m\n\u001b[1;32m     81\u001b[0m header \u001b[38;5;241m=\u001b[39m {\n\u001b[1;32m     82\u001b[0m     \u001b[38;5;124m\"\u001b[39m\u001b[38;5;124mserializer\u001b[39m\u001b[38;5;124m\"\u001b[39m: \u001b[38;5;124m\"\u001b[39m\u001b[38;5;124mpickle\u001b[39m\u001b[38;5;124m\"\u001b[39m,\n\u001b[1;32m     83\u001b[0m     \u001b[38;5;124m\"\u001b[39m\u001b[38;5;124mwriteable\u001b[39m\u001b[38;5;124m\"\u001b[39m: \u001b[38;5;28mtuple\u001b[39m(writeable),\n\u001b[1;32m     84\u001b[0m }\n",
      "File \u001b[0;32m~/Documents/4 WORK/7 Mottum.io/2 CONSULTORÍAS/2024_01 UNDP_SESNA ANTICORRUPCIÓN_MEXICO/3 Desarrollo/Limpieza_Datos_Contrataciones/pymongo_env/lib/python3.12/site-packages/distributed/protocol/pickle.py:81\u001b[0m, in \u001b[0;36mdumps\u001b[0;34m(x, buffer_callback, protocol)\u001b[0m\n\u001b[1;32m     80\u001b[0m     buffers\u001b[38;5;241m.\u001b[39mclear()\n\u001b[0;32m---> 81\u001b[0m     result \u001b[38;5;241m=\u001b[39m \u001b[43mcloudpickle\u001b[49m\u001b[38;5;241;43m.\u001b[39;49m\u001b[43mdumps\u001b[49m\u001b[43m(\u001b[49m\u001b[43mx\u001b[49m\u001b[43m,\u001b[49m\u001b[43m \u001b[49m\u001b[38;5;241;43m*\u001b[39;49m\u001b[38;5;241;43m*\u001b[39;49m\u001b[43mdump_kwargs\u001b[49m\u001b[43m)\u001b[49m\n\u001b[1;32m     82\u001b[0m \u001b[38;5;28;01mexcept\u001b[39;00m \u001b[38;5;167;01mException\u001b[39;00m:\n",
      "File \u001b[0;32m~/Documents/4 WORK/7 Mottum.io/2 CONSULTORÍAS/2024_01 UNDP_SESNA ANTICORRUPCIÓN_MEXICO/3 Desarrollo/Limpieza_Datos_Contrataciones/pymongo_env/lib/python3.12/site-packages/cloudpickle/cloudpickle.py:1479\u001b[0m, in \u001b[0;36mdumps\u001b[0;34m(obj, protocol, buffer_callback)\u001b[0m\n\u001b[1;32m   1478\u001b[0m cp \u001b[38;5;241m=\u001b[39m Pickler(file, protocol\u001b[38;5;241m=\u001b[39mprotocol, buffer_callback\u001b[38;5;241m=\u001b[39mbuffer_callback)\n\u001b[0;32m-> 1479\u001b[0m \u001b[43mcp\u001b[49m\u001b[38;5;241;43m.\u001b[39;49m\u001b[43mdump\u001b[49m\u001b[43m(\u001b[49m\u001b[43mobj\u001b[49m\u001b[43m)\u001b[49m\n\u001b[1;32m   1480\u001b[0m \u001b[38;5;28;01mreturn\u001b[39;00m file\u001b[38;5;241m.\u001b[39mgetvalue()\n",
      "File \u001b[0;32m~/Documents/4 WORK/7 Mottum.io/2 CONSULTORÍAS/2024_01 UNDP_SESNA ANTICORRUPCIÓN_MEXICO/3 Desarrollo/Limpieza_Datos_Contrataciones/pymongo_env/lib/python3.12/site-packages/cloudpickle/cloudpickle.py:1245\u001b[0m, in \u001b[0;36mPickler.dump\u001b[0;34m(self, obj)\u001b[0m\n\u001b[1;32m   1244\u001b[0m \u001b[38;5;28;01mtry\u001b[39;00m:\n\u001b[0;32m-> 1245\u001b[0m     \u001b[38;5;28;01mreturn\u001b[39;00m \u001b[38;5;28;43msuper\u001b[39;49m\u001b[43m(\u001b[49m\u001b[43m)\u001b[49m\u001b[38;5;241;43m.\u001b[39;49m\u001b[43mdump\u001b[49m\u001b[43m(\u001b[49m\u001b[43mobj\u001b[49m\u001b[43m)\u001b[49m\n\u001b[1;32m   1246\u001b[0m \u001b[38;5;28;01mexcept\u001b[39;00m \u001b[38;5;167;01mRuntimeError\u001b[39;00m \u001b[38;5;28;01mas\u001b[39;00m e:\n",
      "\u001b[0;31mTypeError\u001b[0m: cannot pickle '_thread.lock' object",
      "\nThe above exception was the direct cause of the following exception:\n",
      "\u001b[0;31mTypeError\u001b[0m                                 Traceback (most recent call last)",
      "Cell \u001b[0;32mIn[9], line 26\u001b[0m\n\u001b[1;32m     23\u001b[0m tarea_contar_docs \u001b[38;5;241m=\u001b[39m dask\u001b[38;5;241m.\u001b[39mdelayed(contar_documentos)()\n\u001b[1;32m     25\u001b[0m \u001b[38;5;66;03m# Ejecutar tareas en paralelo y manejar los resultados a medida que se completan\u001b[39;00m\n\u001b[0;32m---> 26\u001b[0m futuros \u001b[38;5;241m=\u001b[39m \u001b[43mdask\u001b[49m\u001b[38;5;241;43m.\u001b[39;49m\u001b[43mpersist\u001b[49m\u001b[43m(\u001b[49m\u001b[43mtarea_tamano_db\u001b[49m\u001b[43m,\u001b[49m\u001b[43m \u001b[49m\u001b[43mtarea_contar_docs\u001b[49m\u001b[43m)\u001b[49m\n\u001b[1;32m     27\u001b[0m resultados \u001b[38;5;241m=\u001b[39m []\n\u001b[1;32m     28\u001b[0m \u001b[38;5;28;01mfor\u001b[39;00m futuro \u001b[38;5;129;01min\u001b[39;00m as_completed(futuros):\n",
      "File \u001b[0;32m~/Documents/4 WORK/7 Mottum.io/2 CONSULTORÍAS/2024_01 UNDP_SESNA ANTICORRUPCIÓN_MEXICO/3 Desarrollo/Limpieza_Datos_Contrataciones/pymongo_env/lib/python3.12/site-packages/dask/base.py:984\u001b[0m, in \u001b[0;36mpersist\u001b[0;34m(traverse, optimize_graph, scheduler, *args, **kwargs)\u001b[0m\n\u001b[1;32m    982\u001b[0m         \u001b[38;5;28;01melse\u001b[39;00m:\n\u001b[1;32m    983\u001b[0m             \u001b[38;5;28;01mif\u001b[39;00m client\u001b[38;5;241m.\u001b[39mget \u001b[38;5;241m==\u001b[39m schedule:\n\u001b[0;32m--> 984\u001b[0m                 results \u001b[38;5;241m=\u001b[39m \u001b[43mclient\u001b[49m\u001b[38;5;241;43m.\u001b[39;49m\u001b[43mpersist\u001b[49m\u001b[43m(\u001b[49m\n\u001b[1;32m    985\u001b[0m \u001b[43m                    \u001b[49m\u001b[43mcollections\u001b[49m\u001b[43m,\u001b[49m\u001b[43m \u001b[49m\u001b[43moptimize_graph\u001b[49m\u001b[38;5;241;43m=\u001b[39;49m\u001b[43moptimize_graph\u001b[49m\u001b[43m,\u001b[49m\u001b[43m \u001b[49m\u001b[38;5;241;43m*\u001b[39;49m\u001b[38;5;241;43m*\u001b[39;49m\u001b[43mkwargs\u001b[49m\n\u001b[1;32m    986\u001b[0m \u001b[43m                \u001b[49m\u001b[43m)\u001b[49m\n\u001b[1;32m    987\u001b[0m                 \u001b[38;5;28;01mreturn\u001b[39;00m repack(results)\n\u001b[1;32m    989\u001b[0m dsk \u001b[38;5;241m=\u001b[39m collections_to_dsk(collections, optimize_graph, \u001b[38;5;241m*\u001b[39m\u001b[38;5;241m*\u001b[39mkwargs)\n",
      "File \u001b[0;32m~/Documents/4 WORK/7 Mottum.io/2 CONSULTORÍAS/2024_01 UNDP_SESNA ANTICORRUPCIÓN_MEXICO/3 Desarrollo/Limpieza_Datos_Contrataciones/pymongo_env/lib/python3.12/site-packages/distributed/client.py:3576\u001b[0m, in \u001b[0;36mClient.persist\u001b[0;34m(self, collections, optimize_graph, workers, allow_other_workers, resources, retries, priority, fifo_timeout, actors, **kwargs)\u001b[0m\n\u001b[1;32m   3572\u001b[0m dsk \u001b[38;5;241m=\u001b[39m \u001b[38;5;28mself\u001b[39m\u001b[38;5;241m.\u001b[39mcollections_to_dsk(collections, optimize_graph, \u001b[38;5;241m*\u001b[39m\u001b[38;5;241m*\u001b[39mkwargs)\n\u001b[1;32m   3574\u001b[0m names \u001b[38;5;241m=\u001b[39m {k \u001b[38;5;28;01mfor\u001b[39;00m c \u001b[38;5;129;01min\u001b[39;00m collections \u001b[38;5;28;01mfor\u001b[39;00m k \u001b[38;5;129;01min\u001b[39;00m flatten(c\u001b[38;5;241m.\u001b[39m__dask_keys__())}\n\u001b[0;32m-> 3576\u001b[0m futures \u001b[38;5;241m=\u001b[39m \u001b[38;5;28;43mself\u001b[39;49m\u001b[38;5;241;43m.\u001b[39;49m\u001b[43m_graph_to_futures\u001b[49m\u001b[43m(\u001b[49m\n\u001b[1;32m   3577\u001b[0m \u001b[43m    \u001b[49m\u001b[43mdsk\u001b[49m\u001b[43m,\u001b[49m\n\u001b[1;32m   3578\u001b[0m \u001b[43m    \u001b[49m\u001b[43mnames\u001b[49m\u001b[43m,\u001b[49m\n\u001b[1;32m   3579\u001b[0m \u001b[43m    \u001b[49m\u001b[43mworkers\u001b[49m\u001b[38;5;241;43m=\u001b[39;49m\u001b[43mworkers\u001b[49m\u001b[43m,\u001b[49m\n\u001b[1;32m   3580\u001b[0m \u001b[43m    \u001b[49m\u001b[43mallow_other_workers\u001b[49m\u001b[38;5;241;43m=\u001b[39;49m\u001b[43mallow_other_workers\u001b[49m\u001b[43m,\u001b[49m\n\u001b[1;32m   3581\u001b[0m \u001b[43m    \u001b[49m\u001b[43mresources\u001b[49m\u001b[38;5;241;43m=\u001b[39;49m\u001b[43mresources\u001b[49m\u001b[43m,\u001b[49m\n\u001b[1;32m   3582\u001b[0m \u001b[43m    \u001b[49m\u001b[43mretries\u001b[49m\u001b[38;5;241;43m=\u001b[39;49m\u001b[43mretries\u001b[49m\u001b[43m,\u001b[49m\n\u001b[1;32m   3583\u001b[0m \u001b[43m    \u001b[49m\u001b[43muser_priority\u001b[49m\u001b[38;5;241;43m=\u001b[39;49m\u001b[43mpriority\u001b[49m\u001b[43m,\u001b[49m\n\u001b[1;32m   3584\u001b[0m \u001b[43m    \u001b[49m\u001b[43mfifo_timeout\u001b[49m\u001b[38;5;241;43m=\u001b[39;49m\u001b[43mfifo_timeout\u001b[49m\u001b[43m,\u001b[49m\n\u001b[1;32m   3585\u001b[0m \u001b[43m    \u001b[49m\u001b[43mactors\u001b[49m\u001b[38;5;241;43m=\u001b[39;49m\u001b[43mactors\u001b[49m\u001b[43m,\u001b[49m\n\u001b[1;32m   3586\u001b[0m \u001b[43m\u001b[49m\u001b[43m)\u001b[49m\n\u001b[1;32m   3588\u001b[0m postpersists \u001b[38;5;241m=\u001b[39m [c\u001b[38;5;241m.\u001b[39m__dask_postpersist__() \u001b[38;5;28;01mfor\u001b[39;00m c \u001b[38;5;129;01min\u001b[39;00m collections]\n\u001b[1;32m   3589\u001b[0m result \u001b[38;5;241m=\u001b[39m [\n\u001b[1;32m   3590\u001b[0m     func({k: futures[k] \u001b[38;5;28;01mfor\u001b[39;00m k \u001b[38;5;129;01min\u001b[39;00m flatten(c\u001b[38;5;241m.\u001b[39m__dask_keys__())}, \u001b[38;5;241m*\u001b[39margs)\n\u001b[1;32m   3591\u001b[0m     \u001b[38;5;28;01mfor\u001b[39;00m (func, args), c \u001b[38;5;129;01min\u001b[39;00m \u001b[38;5;28mzip\u001b[39m(postpersists, collections)\n\u001b[1;32m   3592\u001b[0m ]\n",
      "File \u001b[0;32m~/Documents/4 WORK/7 Mottum.io/2 CONSULTORÍAS/2024_01 UNDP_SESNA ANTICORRUPCIÓN_MEXICO/3 Desarrollo/Limpieza_Datos_Contrataciones/pymongo_env/lib/python3.12/site-packages/distributed/client.py:3151\u001b[0m, in \u001b[0;36mClient._graph_to_futures\u001b[0;34m(self, dsk, keys, workers, allow_other_workers, internal_priority, user_priority, resources, retries, fifo_timeout, actors)\u001b[0m\n\u001b[1;32m   3148\u001b[0m \u001b[38;5;28;01mfrom\u001b[39;00m \u001b[38;5;21;01mdistributed\u001b[39;00m\u001b[38;5;21;01m.\u001b[39;00m\u001b[38;5;21;01mprotocol\u001b[39;00m \u001b[38;5;28;01mimport\u001b[39;00m serialize\n\u001b[1;32m   3149\u001b[0m \u001b[38;5;28;01mfrom\u001b[39;00m \u001b[38;5;21;01mdistributed\u001b[39;00m\u001b[38;5;21;01m.\u001b[39;00m\u001b[38;5;21;01mprotocol\u001b[39;00m\u001b[38;5;21;01m.\u001b[39;00m\u001b[38;5;21;01mserialize\u001b[39;00m \u001b[38;5;28;01mimport\u001b[39;00m ToPickle\n\u001b[0;32m-> 3151\u001b[0m header, frames \u001b[38;5;241m=\u001b[39m \u001b[43mserialize\u001b[49m\u001b[43m(\u001b[49m\u001b[43mToPickle\u001b[49m\u001b[43m(\u001b[49m\u001b[43mdsk\u001b[49m\u001b[43m)\u001b[49m\u001b[43m,\u001b[49m\u001b[43m \u001b[49m\u001b[43mon_error\u001b[49m\u001b[38;5;241;43m=\u001b[39;49m\u001b[38;5;124;43m\"\u001b[39;49m\u001b[38;5;124;43mraise\u001b[39;49m\u001b[38;5;124;43m\"\u001b[39;49m\u001b[43m)\u001b[49m\n\u001b[1;32m   3153\u001b[0m pickled_size \u001b[38;5;241m=\u001b[39m \u001b[38;5;28msum\u001b[39m(\u001b[38;5;28mmap\u001b[39m(nbytes, [header] \u001b[38;5;241m+\u001b[39m frames))\n\u001b[1;32m   3154\u001b[0m \u001b[38;5;28;01mif\u001b[39;00m pickled_size \u001b[38;5;241m>\u001b[39m parse_bytes(\n\u001b[1;32m   3155\u001b[0m     dask\u001b[38;5;241m.\u001b[39mconfig\u001b[38;5;241m.\u001b[39mget(\u001b[38;5;124m\"\u001b[39m\u001b[38;5;124mdistributed.admin.large-graph-warning-threshold\u001b[39m\u001b[38;5;124m\"\u001b[39m)\n\u001b[1;32m   3156\u001b[0m ):\n",
      "File \u001b[0;32m~/Documents/4 WORK/7 Mottum.io/2 CONSULTORÍAS/2024_01 UNDP_SESNA ANTICORRUPCIÓN_MEXICO/3 Desarrollo/Limpieza_Datos_Contrataciones/pymongo_env/lib/python3.12/site-packages/distributed/protocol/serialize.py:379\u001b[0m, in \u001b[0;36mserialize\u001b[0;34m(x, serializers, on_error, context, iterate_collection)\u001b[0m\n\u001b[1;32m    377\u001b[0m     \u001b[38;5;28;01mexcept\u001b[39;00m \u001b[38;5;167;01mException\u001b[39;00m:\n\u001b[1;32m    378\u001b[0m         \u001b[38;5;28;01mraise\u001b[39;00m \u001b[38;5;167;01mTypeError\u001b[39;00m(msg) \u001b[38;5;28;01mfrom\u001b[39;00m \u001b[38;5;21;01mexc\u001b[39;00m\n\u001b[0;32m--> 379\u001b[0m     \u001b[38;5;28;01mraise\u001b[39;00m \u001b[38;5;167;01mTypeError\u001b[39;00m(msg, str_x) \u001b[38;5;28;01mfrom\u001b[39;00m \u001b[38;5;21;01mexc\u001b[39;00m\n\u001b[1;32m    380\u001b[0m \u001b[38;5;28;01melse\u001b[39;00m:  \u001b[38;5;66;03m# pragma: nocover\u001b[39;00m\n\u001b[1;32m    381\u001b[0m     \u001b[38;5;28;01mraise\u001b[39;00m \u001b[38;5;167;01mValueError\u001b[39;00m(\u001b[38;5;124mf\u001b[39m\u001b[38;5;124m\"\u001b[39m\u001b[38;5;132;01m{\u001b[39;00mon_error\u001b[38;5;132;01m=}\u001b[39;00m\u001b[38;5;124m; expected \u001b[39m\u001b[38;5;124m'\u001b[39m\u001b[38;5;124mmessage\u001b[39m\u001b[38;5;124m'\u001b[39m\u001b[38;5;124m or \u001b[39m\u001b[38;5;124m'\u001b[39m\u001b[38;5;124mraise\u001b[39m\u001b[38;5;124m'\u001b[39m\u001b[38;5;124m\"\u001b[39m)\n",
      "\u001b[0;31mTypeError\u001b[0m: ('Could not serialize object of type HighLevelGraph', '<ToPickle: HighLevelGraph with 2 layers.\\n<dask.highlevelgraph.HighLevelGraph object at 0x11603ec30>\\n 0. contar_documentos-4f598d2a-1158-468e-a096-40be417fb194\\n 1. obtener_tamano_db-7dfc818a-e043-4d5c-bb54-804b0ae8e861\\n>')"
     ]
    }
   ],
   "source": [
    "from dask.distributed import Client, as_completed\n",
    "from pymongo import MongoClient\n",
    "import dask\n",
    "\n",
    "# Inicializar el cliente Dask Distributed de manera que evite el conflicto de puertos\n",
    "client = Client(processes=False)\n",
    "\n",
    "# Conexión a MongoDB\n",
    "mongo_client = MongoClient('mongodb://localhost:27017/')\n",
    "db = mongo_client['Contrataciones']  # Reemplaza con el nombre de tu base de datos\n",
    "\n",
    "def obtener_tamano_db():\n",
    "    db_stats = db.command(\"dbstats\")\n",
    "    db_size_gb = db_stats['storageSize'] / (1024**3)  # Convertir bytes a GB\n",
    "    return db_size_gb\n",
    "\n",
    "def contar_documentos():\n",
    "    num_documents = db['Contratos_EDCA'].count_documents({})\n",
    "    return num_documents\n",
    "\n",
    "# Crear tareas Dask\n",
    "tarea_tamano_db = dask.delayed(obtener_tamano_db)()\n",
    "tarea_contar_docs = dask.delayed(contar_documentos)()\n",
    "\n",
    "# Ejecutar tareas en paralelo y manejar los resultados a medida que se completan\n",
    "futuros = dask.persist(tarea_tamano_db, tarea_contar_docs)\n",
    "resultados = []\n",
    "for futuro in as_completed(futuros):\n",
    "    resultados.append(futuro.result())\n",
    "\n",
    "print(f\"Tamaño de la base de datos: {resultados[0]} GB\")\n",
    "print(f\"Número de documentos en la colección 'Contratos_EDCA': {resultados[1]}\")"
   ]
  },
  {
   "cell_type": "code",
   "execution_count": 11,
   "metadata": {},
   "outputs": [
    {
     "ename": "TypeError",
     "evalue": "Input must be a future, got Delayed('obtener_tamano_db-43a1b43d-fa36-49e5-9835-e1c0bd099d19')",
     "output_type": "error",
     "traceback": [
      "\u001b[0;31m---------------------------------------------------------------------------\u001b[0m",
      "\u001b[0;31mTypeError\u001b[0m                                 Traceback (most recent call last)",
      "Cell \u001b[0;32mIn[11], line 31\u001b[0m\n\u001b[1;32m     29\u001b[0m futuros \u001b[38;5;241m=\u001b[39m dask\u001b[38;5;241m.\u001b[39mpersist(tarea_tamano_db, tarea_contar_docs)\n\u001b[1;32m     30\u001b[0m resultados \u001b[38;5;241m=\u001b[39m []\n\u001b[0;32m---> 31\u001b[0m \u001b[38;5;28;01mfor\u001b[39;00m futuro \u001b[38;5;129;01min\u001b[39;00m \u001b[43mas_completed\u001b[49m\u001b[43m(\u001b[49m\u001b[43mfuturos\u001b[49m\u001b[43m)\u001b[49m:\n\u001b[1;32m     32\u001b[0m     resultados\u001b[38;5;241m.\u001b[39mappend(futuro\u001b[38;5;241m.\u001b[39mresult())\n\u001b[1;32m     34\u001b[0m \u001b[38;5;28mprint\u001b[39m(\u001b[38;5;124mf\u001b[39m\u001b[38;5;124m\"\u001b[39m\u001b[38;5;124mTamaño de la base de datos: \u001b[39m\u001b[38;5;132;01m{\u001b[39;00mresultados[\u001b[38;5;241m0\u001b[39m]\u001b[38;5;132;01m}\u001b[39;00m\u001b[38;5;124m GB\u001b[39m\u001b[38;5;124m\"\u001b[39m)\n",
      "File \u001b[0;32m~/Documents/4 WORK/7 Mottum.io/2 CONSULTORÍAS/2024_01 UNDP_SESNA ANTICORRUPCIÓN_MEXICO/3 Desarrollo/Limpieza_Datos_Contrataciones/pymongo_env/lib/python3.12/site-packages/distributed/client.py:5569\u001b[0m, in \u001b[0;36mas_completed.__init__\u001b[0;34m(self, futures, loop, with_results, raise_errors, timeout)\u001b[0m\n\u001b[1;32m   5566\u001b[0m \u001b[38;5;28mself\u001b[39m\u001b[38;5;241m.\u001b[39m_deadline \u001b[38;5;241m=\u001b[39m Deadline\u001b[38;5;241m.\u001b[39mafter(parse_timedelta(timeout))\n\u001b[1;32m   5568\u001b[0m \u001b[38;5;28;01mif\u001b[39;00m futures:\n\u001b[0;32m-> 5569\u001b[0m     \u001b[38;5;28;43mself\u001b[39;49m\u001b[38;5;241;43m.\u001b[39;49m\u001b[43mupdate\u001b[49m\u001b[43m(\u001b[49m\u001b[43mfutures\u001b[49m\u001b[43m)\u001b[49m\n",
      "File \u001b[0;32m~/Documents/4 WORK/7 Mottum.io/2 CONSULTORÍAS/2024_01 UNDP_SESNA ANTICORRUPCIÓN_MEXICO/3 Desarrollo/Limpieza_Datos_Contrataciones/pymongo_env/lib/python3.12/site-packages/distributed/client.py:5612\u001b[0m, in \u001b[0;36mas_completed.update\u001b[0;34m(self, futures)\u001b[0m\n\u001b[1;32m   5610\u001b[0m \u001b[38;5;28;01mfor\u001b[39;00m f \u001b[38;5;129;01min\u001b[39;00m futures:\n\u001b[1;32m   5611\u001b[0m     \u001b[38;5;28;01mif\u001b[39;00m \u001b[38;5;129;01mnot\u001b[39;00m \u001b[38;5;28misinstance\u001b[39m(f, (Future, BaseActorFuture)):\n\u001b[0;32m-> 5612\u001b[0m         \u001b[38;5;28;01mraise\u001b[39;00m \u001b[38;5;167;01mTypeError\u001b[39;00m(\u001b[38;5;124m\"\u001b[39m\u001b[38;5;124mInput must be a future, got \u001b[39m\u001b[38;5;132;01m%s\u001b[39;00m\u001b[38;5;124m\"\u001b[39m \u001b[38;5;241m%\u001b[39m f)\n\u001b[1;32m   5613\u001b[0m     \u001b[38;5;28mself\u001b[39m\u001b[38;5;241m.\u001b[39mfutures[f] \u001b[38;5;241m+\u001b[39m\u001b[38;5;241m=\u001b[39m \u001b[38;5;241m1\u001b[39m\n\u001b[1;32m   5614\u001b[0m     \u001b[38;5;28mself\u001b[39m\u001b[38;5;241m.\u001b[39mloop\u001b[38;5;241m.\u001b[39madd_callback(\u001b[38;5;28mself\u001b[39m\u001b[38;5;241m.\u001b[39m_track_future, f)\n",
      "\u001b[0;31mTypeError\u001b[0m: Input must be a future, got Delayed('obtener_tamano_db-43a1b43d-fa36-49e5-9835-e1c0bd099d19')"
     ]
    }
   ],
   "source": [
    "from dask.distributed import Client, as_completed\n",
    "import dask\n",
    "\n",
    "# Inicializar el cliente Dask Distributed especificando un puerto para evitar conflictos\n",
    "client = Client(processes=False, dashboard_address=':0')\n",
    "\n",
    "def obtener_tamano_db():\n",
    "    from pymongo import MongoClient\n",
    "    # Conexión a MongoDB dentro de la función\n",
    "    mongo_client = MongoClient('mongodb://localhost:27017/')\n",
    "    db = mongo_client['Contrataciones']  # Reemplaza con el nombre de tu base de datos\n",
    "    db_stats = db.command(\"dbstats\")\n",
    "    db_size_gb = db_stats['storageSize'] / (1024**3)  # Convertir bytes a GB\n",
    "    return db_size_gb\n",
    "\n",
    "def contar_documentos():\n",
    "    from pymongo import MongoClient\n",
    "    # Conexión a MongoDB dentro de la función\n",
    "    mongo_client = MongoClient('mongodb://localhost:27017/')\n",
    "    db = mongo_client['Contrataciones']\n",
    "    num_documents = db['Contratos_EDCA'].count_documents({})\n",
    "    return num_documents\n",
    "\n",
    "# Crear tareas Dask\n",
    "tarea_tamano_db = dask.delayed(obtener_tamano_db)()\n",
    "tarea_contar_docs = dask.delayed(contar_documentos)()\n",
    "\n",
    "# Ejecutar tareas en paralelo y manejar los resultados a medida que se completan\n",
    "futuros = dask.persist(tarea_tamano_db, tarea_contar_docs)\n",
    "resultados = []\n",
    "for futuro in as_completed(futuros):\n",
    "    resultados.append(futuro.result())\n",
    "\n",
    "print(f\"Tamaño de la base de datos: {resultados[0]} GB\")\n",
    "print(f\"Número de documentos en la colección 'Contratos_EDCA': {resultados[1]}\")"
   ]
  },
  {
   "cell_type": "markdown",
   "metadata": {},
   "source": [
    "### 3. Crear una muestra pequeña de datos para confirmar que los comandos funcionan.\n",
    "\n",
    "Guardaremos la nueva muestra _Sample_Contratos_EDCA_ en una nueva colección."
   ]
  },
  {
   "cell_type": "code",
   "execution_count": 10,
   "metadata": {},
   "outputs": [
    {
     "name": "stdout",
     "output_type": "stream",
     "text": [
      "Número de documentos en la muestra aleatoria es: 137113\n",
      "Sample creado\n",
      "Muestra guardada en la colección 'Sample_Contratos_EDCA'!\n"
     ]
    }
   ],
   "source": [
    "# Generando la muestra aleatoria y guardándola en una nueva colección\n",
    "sample_size = int(num_documents * 0.05)  # Calcula el 5% del total de documentos\n",
    "print(f\"Número de documentos en la muestra aleatoria es: {sample_size}\")\n",
    "\n",
    "# Realiza la agregación para obtener la muestra aleatoria\n",
    "sample = db['Contratos_EDCA'].aggregate([\n",
    "    { '$sample': { 'size': sample_size } }\n",
    "])\n",
    "sample_documents = list(sample)\n",
    "print(f\"Sample creado\")\n",
    "\n",
    "# Guarda la muestra en una nueva colección\n",
    "db['Sample_Contratos_EDCA'].insert_many(sample_documents)\n",
    "print(f\"Muestra guardada en la colección 'Sample_Contratos_EDCA'!\")\n",
    "\n"
   ]
  },
  {
   "cell_type": "code",
   "execution_count": 19,
   "metadata": {},
   "outputs": [
    {
     "ename": "AttributeError",
     "evalue": "'CommandCursor' object has no attribute 'find'",
     "output_type": "error",
     "traceback": [
      "\u001b[0;31m---------------------------------------------------------------------------\u001b[0m",
      "\u001b[0;31mAttributeError\u001b[0m                            Traceback (most recent call last)",
      "Cell \u001b[0;32mIn[19], line 2\u001b[0m\n\u001b[1;32m      1\u001b[0m \u001b[38;5;66;03m# Realizando la consulta con sort y limit\u001b[39;00m\n\u001b[0;32m----> 2\u001b[0m resultados \u001b[38;5;241m=\u001b[39m \u001b[43msample\u001b[49m\u001b[38;5;241;43m.\u001b[39;49m\u001b[43mfind\u001b[49m()\u001b[38;5;241m.\u001b[39msort(\u001b[38;5;124m'\u001b[39m\u001b[38;5;124mpublishedDate\u001b[39m\u001b[38;5;124m'\u001b[39m, \u001b[38;5;241m-\u001b[39m\u001b[38;5;241m1\u001b[39m)\u001b[38;5;241m.\u001b[39mlimit(\u001b[38;5;241m5\u001b[39m)\n\u001b[1;32m      4\u001b[0m \u001b[38;5;66;03m# Iterando sobre los resultados y haciendo algo con ellos\u001b[39;00m\n\u001b[1;32m      5\u001b[0m \u001b[38;5;28;01mfor\u001b[39;00m documento \u001b[38;5;129;01min\u001b[39;00m resultados:\n",
      "\u001b[0;31mAttributeError\u001b[0m: 'CommandCursor' object has no attribute 'find'"
     ]
    }
   ],
   "source": [
    "# Realizando la consulta con sort y limit\n",
    "resultados = Sample_Contratos_EDCA.find().sort('publishedDate', -1).limit(5)\n",
    "\n",
    "# Iterando sobre los resultados y haciendo algo con ellos\n",
    "for documento in resultados:\n",
    "    print(documento)"
   ]
  }
 ],
 "metadata": {
  "kernelspec": {
   "display_name": "pymongo_env",
   "language": "python",
   "name": "python3"
  },
  "language_info": {
   "codemirror_mode": {
    "name": "ipython",
    "version": 3
   },
   "file_extension": ".py",
   "mimetype": "text/x-python",
   "name": "python",
   "nbconvert_exporter": "python",
   "pygments_lexer": "ipython3",
   "version": "3.12.2"
  }
 },
 "nbformat": 4,
 "nbformat_minor": 2
}
